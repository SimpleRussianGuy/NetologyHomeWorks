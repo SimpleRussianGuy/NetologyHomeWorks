{
 "cells": [
  {
   "cell_type": "code",
   "execution_count": 2,
   "metadata": {},
   "outputs": [
    {
     "name": "stdout",
     "output_type": "stream",
     "text": [
      "Не счастливый билет\n"
     ]
    }
   ],
   "source": [
    "ticket = input(\n",
    "    \"Ввод => \"\n",
    ")\n",
    "nums = list(ticket)\n",
    "i = 0\n",
    "sum_1 = sum_2 = 0 \n",
    "for i in range(6):\n",
    "    if i <= 2:\n",
    "        for num in nums[i]:\n",
    "            sum_1 += int(num)\n",
    "    elif i >= 3 and i <=5:\n",
    "        for num in nums[i]:\n",
    "            sum_2 += int(num)\n",
    "if sum_1 == sum_2:\n",
    "    print(\"Счастливый билет\")\n",
    "else:\n",
    "    print(\"Не счастливый билет\")"
   ]
  }
 ],
 "metadata": {
  "kernelspec": {
   "display_name": ".venv",
   "language": "python",
   "name": "python3"
  },
  "language_info": {
   "codemirror_mode": {
    "name": "ipython",
    "version": 3
   },
   "file_extension": ".py",
   "mimetype": "text/x-python",
   "name": "python",
   "nbconvert_exporter": "python",
   "pygments_lexer": "ipython3",
   "version": "3.10.8"
  }
 },
 "nbformat": 4,
 "nbformat_minor": 2
}
