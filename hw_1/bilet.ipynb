{
 "cells": [
  {
   "cell_type": "code",
   "execution_count": 1,
   "metadata": {},
   "outputs": [
    {
     "name": "stdout",
     "output_type": "stream",
     "text": [
      "Счастливый билет\n"
     ]
    }
   ],
   "source": [
    "ticket = input(\"Ввод => \")\n",
    "sum_1 = sum(map(int, ticket[:3]))\n",
    "sum_2 = sum(map(int, ticket[3:]))\n",
    "print(\"Счастливый билет\" if sum_1 == sum_2 else \"Не счастливый билет\")"
   ]
  }
 ],
 "metadata": {
  "kernelspec": {
   "display_name": ".venv",
   "language": "python",
   "name": "python3"
  },
  "language_info": {
   "codemirror_mode": {
    "name": "ipython",
    "version": 3
   },
   "file_extension": ".py",
   "mimetype": "text/x-python",
   "name": "python",
   "nbconvert_exporter": "python",
   "pygments_lexer": "ipython3",
   "version": "3.10.8"
  }
 },
 "nbformat": 4,
 "nbformat_minor": 2
}
