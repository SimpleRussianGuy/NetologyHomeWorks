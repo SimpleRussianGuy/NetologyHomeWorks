{
 "cells": [
  {
   "cell_type": "code",
   "execution_count": 1,
   "metadata": {},
   "outputs": [
    {
     "name": "stdout",
     "output_type": "stream",
     "text": [
      "Результат\n",
      "Идеальные пары: \n",
      "Alex и Emma\n",
      "Arthur и Kate\n",
      "John и Kira\n",
      "Peter и Liza\n",
      "Richard и Trisha\n"
     ]
    }
   ],
   "source": [
    "# Все с парой\n",
    "boys = ['Peter', 'Alex', 'John', 'Arthur', 'Richard']; boys = sorted(boys)\n",
    "girls = ['Kate', 'Liza', 'Kira', 'Emma', 'Trisha']; girls = sorted(girls)\n",
    "\n",
    "# Кто-то без пары\n",
    "\"\"\"\n",
    "boys = ['Peter', 'Alex', 'John', 'Arthur', 'Richard', 'Michael']; boys = sorted(boys)\n",
    "girls = ['Kate', 'Liza', 'Kira', 'Emma', 'Trisha']; girls = sorted(girls)\n",
    "\"\"\"\n",
    "while len(boys) == len(girls):\n",
    "    print('Результат\\nИдеальные пары: ')\n",
    "    for j in range(0, len(boys)):\n",
    "        print(f'{boys[j]} и {girls[j]}')\n",
    "    break\n",
    "else:\n",
    "    print('Кто-то останется без пары') \n"
   ]
  }
 ],
 "metadata": {
  "kernelspec": {
   "display_name": ".venv",
   "language": "python",
   "name": "python3"
  },
  "language_info": {
   "codemirror_mode": {
    "name": "ipython",
    "version": 3
   },
   "file_extension": ".py",
   "mimetype": "text/x-python",
   "name": "python",
   "nbconvert_exporter": "python",
   "pygments_lexer": "ipython3",
   "version": "3.10.8"
  }
 },
 "nbformat": 4,
 "nbformat_minor": 2
}
